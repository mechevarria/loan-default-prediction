{
 "cells": [
  {
   "cell_type": "markdown",
   "metadata": {},
   "source": [
    "# Default Loan Classification"
   ]
  },
  {
   "cell_type": "markdown",
   "metadata": {},
   "source": [
    "This notebook shows my work of building a baseline binary classification model using Random Forest to predict if there will be a default on the loan (`status` of `B` or `D`)."
   ]
  },
  {
   "cell_type": "markdown",
   "metadata": {},
   "source": [
    "## Table of Content\n",
    "\n",
    "1. [Connect to MySQL Database](#mysql)\n",
    "2. Exploratory Data Analysis (In the other notebook)\n",
    "3. [Feature Extraction](#feature_extraction)\n",
    "4. [Correlation](#correlation)\n",
    "5. [Transformation](#transformation)\n",
    "6. [Modeling](#modeling)\n",
    "7. [Feature Importance](#feature_importance)\n",
    "8. [Future Directions](#future)"
   ]
  },
  {
   "cell_type": "markdown",
   "metadata": {},
   "source": [
    "<a name='mysql'></a>\n",
    "## 1. Connect to MySQL Database"
   ]
  },
  {
   "cell_type": "code",
   "execution_count": 188,
   "metadata": {},
   "outputs": [],
   "source": [
    "import os\n",
    "from dotenv import load_dotenv\n",
    "import mysql.connector\n",
    "import pandas as pd\n",
    "import numpy as np\n",
    "import matplotlib.pyplot as plt\n",
    "import seaborn as sns\n",
    "\n",
    "from ayasdi.core.api import Api\n",
    "import ayasdi.core as ac"
   ]
  },
  {
   "cell_type": "markdown",
   "metadata": {},
   "source": [
    "* Test connection to the EurekaAI platform"
   ]
  },
  {
   "cell_type": "code",
   "execution_count": 189,
   "metadata": {},
   "outputs": [
    {
     "name": "stderr",
     "output_type": "stream",
     "text": [
      "/home/mechevar/miniconda3/envs/sai/lib/python3.7/site-packages/ayasdi/core/api.py:550: UserWarning: Your SDK version 3.0.0.7 doesn't match the platform version 3.1.0.4. Please upgrade.\n"
     ]
    }
   ],
   "source": [
    "from imp import load_dynamic\n",
    "\n",
    "\n",
    "load_dotenv()\n",
    "\n",
    "eureka_user = os.getenv('EUREKA_USER')\n",
    "eureka_pass = os.getenv('EUREKA_PASS')\n",
    "conn = Api(username=eureka_user, password=eureka_pass)"
   ]
  },
  {
   "cell_type": "code",
   "execution_count": 190,
   "metadata": {},
   "outputs": [],
   "source": [
    "\n",
    "class MysqlIO:\n",
    "    \"\"\"Connect to MySQL server with python and excecute SQL commands.\"\"\"\n",
    "    def __init__(self, database='test', user='root', password=''):\n",
    "        try:\n",
    "            # Change the host, user and password as needed\n",
    "            connection = mysql.connector.connect(host='localhost',\n",
    "                                                 database=database,\n",
    "                                                 user=user,\n",
    "                                                 password=password,\n",
    "                                                 use_pure=True\n",
    "                                                 )\n",
    "            if connection.is_connected():\n",
    "                db_info = connection.get_server_info()\n",
    "                print(\"Connected to MySQL Server version\", db_info)\n",
    "                print(\"Your're connected to database:\", database)\n",
    "                self.connection = connection\n",
    "        except Exception as e:\n",
    "            print(\"Error while connecting to MySQL\", e)\n",
    "            \n",
    "    def execute(self, query, header=False):\n",
    "        \"\"\"Execute SQL commands and return retrieved queries.\"\"\"\n",
    "        cursor = self.connection.cursor(buffered=True)\n",
    "        cursor.execute(query)\n",
    "        try:\n",
    "            record = cursor.fetchall()\n",
    "            if header:\n",
    "                header = [i[0] for i in cursor.description]\n",
    "                return {'header': header, 'record': record}\n",
    "            else:    \n",
    "                return record\n",
    "        except:\n",
    "            pass\n",
    "        \n",
    "    def to_df(self, query):\n",
    "        \"\"\"Return the retrieved SQL queries into pandas dataframe.\"\"\"\n",
    "        res = self.execute(query, header=True)\n",
    "        df = pd.DataFrame(res['record'])\n",
    "        df.columns = res['header']\n",
    "        return df"
   ]
  },
  {
   "cell_type": "code",
   "execution_count": 191,
   "metadata": {},
   "outputs": [
    {
     "name": "stdout",
     "output_type": "stream",
     "text": [
      "Connected to MySQL Server version 8.0.30\n",
      "Your're connected to database: loan\n"
     ]
    }
   ],
   "source": [
    "db = MysqlIO(database='loan', user='loan', password='loanpass')"
   ]
  },
  {
   "cell_type": "markdown",
   "metadata": {},
   "source": [
    "<a name='feature_extraction'></a>\n",
    "## 3. Extract Features"
   ]
  },
  {
   "cell_type": "markdown",
   "metadata": {},
   "source": [
    "The EDA is done in the notebook `EDA.ipynb`, so according to the results, I am going to pick some of those features and put them in a table and prepare for ML"
   ]
  },
  {
   "cell_type": "markdown",
   "metadata": {},
   "source": [
    "### From Loan, Account, District"
   ]
  },
  {
   "cell_type": "code",
   "execution_count": 192,
   "metadata": {},
   "outputs": [],
   "source": [
    "query = \"\"\"\n",
    "    select account_id, Loan.date date_loan, amount, duration, payments, status, frequency, Account.date date_acc,\n",
    "        A4, A11, A12, A13, A14, A15, A16\n",
    "    from Loan join Account using(account_id)\n",
    "    join District using(district_id)\"\"\"\n",
    "df = db.to_df(query)"
   ]
  },
  {
   "cell_type": "code",
   "execution_count": 193,
   "metadata": {},
   "outputs": [],
   "source": [
    "df.set_index('account_id', inplace=True)"
   ]
  },
  {
   "cell_type": "code",
   "execution_count": 194,
   "metadata": {},
   "outputs": [],
   "source": [
    "df['date_loan'] = pd.to_datetime(df.date_loan, format='%Y-%m-%d')\n",
    "df['date_acc'] = pd.to_datetime(df.date_acc, format='%Y-%m-%d')\n",
    "df['days_between'] = (df['date_loan'] - df['date_acc']).dt.days\n",
    "df['n_inhabitants'] = df.A4\n",
    "df['average_salary'] = df.A11\n",
    "df['average_unemployment_rate'] = df[['A12', 'A13']].mean(axis=1)\n",
    "df['entrepreneur_rate'] = df['A14']\n",
    "df['average_crime_rate'] = df[['A15', 'A16']].mean(axis=1) / df['n_inhabitants']\n",
    "df['default'] = (df['status'] == 'B') | (df['status'] == 'D')"
   ]
  },
  {
   "cell_type": "markdown",
   "metadata": {},
   "source": [
    "### From Order"
   ]
  },
  {
   "cell_type": "code",
   "execution_count": 195,
   "metadata": {},
   "outputs": [],
   "source": [
    "query = \"\"\"\n",
    "    select account_id, amount order_amount\n",
    "    from `Order`\n",
    "    where account_id in (\n",
    "        select account_id\n",
    "        from Loan);\n",
    "    \"\"\"\n",
    "df_order = db.to_df(query)"
   ]
  },
  {
   "cell_type": "code",
   "execution_count": 196,
   "metadata": {},
   "outputs": [],
   "source": [
    "df_order['order_amount'] = df_order.order_amount.astype('float')\n",
    "df = df.join(df_order.groupby('account_id').mean())\n",
    "df = df.rename(columns={'order_amount': 'average_order_amount'})"
   ]
  },
  {
   "cell_type": "markdown",
   "metadata": {},
   "source": [
    "### From Transaction"
   ]
  },
  {
   "cell_type": "code",
   "execution_count": 197,
   "metadata": {},
   "outputs": [],
   "source": [
    "query = \"\"\"\n",
    "    select account_id, amount trans_amount, balance trans_balance\n",
    "    from Trans\n",
    "    where account_id in (\n",
    "        select account_id\n",
    "        from Loan);\n",
    "    \"\"\"\n",
    "df_trans = db.to_df(query)"
   ]
  },
  {
   "cell_type": "code",
   "execution_count": 198,
   "metadata": {},
   "outputs": [],
   "source": [
    "n_trans = df_trans.groupby('account_id').count().iloc[:, 1]\n",
    "n_trans.name = 'n_trans'"
   ]
  },
  {
   "cell_type": "code",
   "execution_count": 199,
   "metadata": {},
   "outputs": [],
   "source": [
    "df_trans = df_trans.groupby('account_id').mean()\n",
    "df_trans.columns = ['average_trans_amount', 'average_trans_balance']"
   ]
  },
  {
   "cell_type": "code",
   "execution_count": 200,
   "metadata": {},
   "outputs": [],
   "source": [
    "df = df.join(df_trans).join(n_trans)"
   ]
  },
  {
   "cell_type": "markdown",
   "metadata": {},
   "source": [
    "### From Card"
   ]
  },
  {
   "cell_type": "code",
   "execution_count": 201,
   "metadata": {},
   "outputs": [],
   "source": [
    "query = \"\"\"\n",
    "    select account_id, Card.type card_type\n",
    "    from Loan join Disposition using(account_id)\n",
    "    left join Card using(disp_id)\n",
    "    where Disposition.type = 'OWNER';\n",
    "    \"\"\"\n",
    "df_card = db.to_df(query)"
   ]
  },
  {
   "cell_type": "code",
   "execution_count": 202,
   "metadata": {},
   "outputs": [],
   "source": [
    "df = df.join(df_card.set_index('account_id'), how='left')\n",
    "df['card_type'].fillna('No', inplace=True)"
   ]
  },
  {
   "cell_type": "markdown",
   "metadata": {},
   "source": [
    "### From Owner"
   ]
  },
  {
   "cell_type": "code",
   "execution_count": 203,
   "metadata": {},
   "outputs": [],
   "source": [
    "query = \"\"\"\n",
    "    select account_id, Loan.date loan_date, Account.district_id acc_dist_id, \n",
    "    Client.district_id cli_dist_id, gender owner_gender, birth_date\n",
    "    from Loan join Account using(account_id)\n",
    "    join Disposition using(account_id)\n",
    "    join Client using(client_id)\n",
    "    where Disposition.type = 'OWNER';\n",
    "    \"\"\"\n",
    "df_cli = db.to_df(query)"
   ]
  },
  {
   "cell_type": "code",
   "execution_count": 204,
   "metadata": {},
   "outputs": [],
   "source": [
    "df_cli['same_district'] = df_cli['acc_dist_id'] == df_cli['cli_dist_id']\n",
    "df_cli['date'] = pd.to_datetime(df_cli['loan_date'], format='%Y-%m-%d')\n",
    "df_cli['birth_date'] = pd.to_datetime(df_cli['birth_date'], format='%Y-%m-%d')\n",
    "df_cli['owner_age'] = (df_cli['date'] - df_cli['birth_date']).dt.days // 365"
   ]
  },
  {
   "cell_type": "code",
   "execution_count": 205,
   "metadata": {},
   "outputs": [],
   "source": [
    "df = df.join(df_cli.set_index('account_id')[['same_district', 'owner_gender', 'owner_age']])"
   ]
  },
  {
   "cell_type": "markdown",
   "metadata": {},
   "source": [
    "### The final feature list"
   ]
  },
  {
   "cell_type": "code",
   "execution_count": 206,
   "metadata": {},
   "outputs": [],
   "source": [
    "df_ml = df[['amount', 'duration', 'payments', 'days_between', 'n_inhabitants', \n",
    "            'average_salary', 'average_unemployment_rate', 'entrepreneur_rate', \n",
    "            'average_crime_rate', 'average_order_amount', 'average_trans_amount',\n",
    "            'average_trans_balance', 'n_trans', 'owner_age', \n",
    "            'frequency', 'card_type', 'same_district', 'owner_gender', 'default']]"
   ]
  },
  {
   "cell_type": "code",
   "execution_count": 207,
   "metadata": {},
   "outputs": [
    {
     "data": {
      "text/html": [
       "<div>\n",
       "<style scoped>\n",
       "    .dataframe tbody tr th:only-of-type {\n",
       "        vertical-align: middle;\n",
       "    }\n",
       "\n",
       "    .dataframe tbody tr th {\n",
       "        vertical-align: top;\n",
       "    }\n",
       "\n",
       "    .dataframe thead th {\n",
       "        text-align: right;\n",
       "    }\n",
       "</style>\n",
       "<table border=\"1\" class=\"dataframe\">\n",
       "  <thead>\n",
       "    <tr style=\"text-align: right;\">\n",
       "      <th></th>\n",
       "      <th>amount</th>\n",
       "      <th>duration</th>\n",
       "      <th>payments</th>\n",
       "      <th>days_between</th>\n",
       "      <th>n_inhabitants</th>\n",
       "      <th>average_salary</th>\n",
       "      <th>average_unemployment_rate</th>\n",
       "      <th>entrepreneur_rate</th>\n",
       "      <th>average_crime_rate</th>\n",
       "      <th>average_order_amount</th>\n",
       "      <th>average_trans_amount</th>\n",
       "      <th>average_trans_balance</th>\n",
       "      <th>n_trans</th>\n",
       "      <th>owner_age</th>\n",
       "      <th>frequency</th>\n",
       "      <th>card_type</th>\n",
       "      <th>same_district</th>\n",
       "      <th>owner_gender</th>\n",
       "      <th>default</th>\n",
       "    </tr>\n",
       "    <tr>\n",
       "      <th>account_id</th>\n",
       "      <th></th>\n",
       "      <th></th>\n",
       "      <th></th>\n",
       "      <th></th>\n",
       "      <th></th>\n",
       "      <th></th>\n",
       "      <th></th>\n",
       "      <th></th>\n",
       "      <th></th>\n",
       "      <th></th>\n",
       "      <th></th>\n",
       "      <th></th>\n",
       "      <th></th>\n",
       "      <th></th>\n",
       "      <th></th>\n",
       "      <th></th>\n",
       "      <th></th>\n",
       "      <th></th>\n",
       "      <th></th>\n",
       "    </tr>\n",
       "  </thead>\n",
       "  <tbody>\n",
       "    <tr>\n",
       "      <th>4099</th>\n",
       "      <td>41856</td>\n",
       "      <td>48</td>\n",
       "      <td>872.00</td>\n",
       "      <td>431</td>\n",
       "      <td>387570</td>\n",
       "      <td>9897</td>\n",
       "      <td>0.99</td>\n",
       "      <td>140</td>\n",
       "      <td>0.048271</td>\n",
       "      <td>1124.75</td>\n",
       "      <td>4679.266667</td>\n",
       "      <td>41713.756863</td>\n",
       "      <td>255</td>\n",
       "      <td>36</td>\n",
       "      <td>POPLATEK MESICNE</td>\n",
       "      <td>classic</td>\n",
       "      <td>True</td>\n",
       "      <td>female</td>\n",
       "      <td>False</td>\n",
       "    </tr>\n",
       "    <tr>\n",
       "      <th>5001</th>\n",
       "      <td>110112</td>\n",
       "      <td>24</td>\n",
       "      <td>4588.00</td>\n",
       "      <td>330</td>\n",
       "      <td>107911</td>\n",
       "      <td>8240</td>\n",
       "      <td>0.99</td>\n",
       "      <td>99</td>\n",
       "      <td>0.017389</td>\n",
       "      <td>6940.25</td>\n",
       "      <td>12206.039370</td>\n",
       "      <td>54492.964567</td>\n",
       "      <td>254</td>\n",
       "      <td>33</td>\n",
       "      <td>POPLATEK MESICNE</td>\n",
       "      <td>No</td>\n",
       "      <td>True</td>\n",
       "      <td>male</td>\n",
       "      <td>False</td>\n",
       "    </tr>\n",
       "    <tr>\n",
       "      <th>1993</th>\n",
       "      <td>68400</td>\n",
       "      <td>12</td>\n",
       "      <td>5700.00</td>\n",
       "      <td>167</td>\n",
       "      <td>228848</td>\n",
       "      <td>9893</td>\n",
       "      <td>0.99</td>\n",
       "      <td>96</td>\n",
       "      <td>0.025148</td>\n",
       "      <td>5700.30</td>\n",
       "      <td>8930.942387</td>\n",
       "      <td>33456.975309</td>\n",
       "      <td>243</td>\n",
       "      <td>18</td>\n",
       "      <td>POPLATEK MESICNE</td>\n",
       "      <td>No</td>\n",
       "      <td>True</td>\n",
       "      <td>female</td>\n",
       "      <td>True</td>\n",
       "    </tr>\n",
       "    <tr>\n",
       "      <th>825</th>\n",
       "      <td>53076</td>\n",
       "      <td>12</td>\n",
       "      <td>4423.00</td>\n",
       "      <td>333</td>\n",
       "      <td>51428</td>\n",
       "      <td>8402</td>\n",
       "      <td>0.99</td>\n",
       "      <td>120</td>\n",
       "      <td>0.020397</td>\n",
       "      <td>6829.00</td>\n",
       "      <td>5533.720183</td>\n",
       "      <td>33872.564220</td>\n",
       "      <td>218</td>\n",
       "      <td>48</td>\n",
       "      <td>POPLATEK MESICNE</td>\n",
       "      <td>classic</td>\n",
       "      <td>True</td>\n",
       "      <td>male</td>\n",
       "      <td>False</td>\n",
       "    </tr>\n",
       "    <tr>\n",
       "      <th>3664</th>\n",
       "      <td>271584</td>\n",
       "      <td>48</td>\n",
       "      <td>5658.00</td>\n",
       "      <td>510</td>\n",
       "      <td>1204953</td>\n",
       "      <td>12541</td>\n",
       "      <td>0.36</td>\n",
       "      <td>167</td>\n",
       "      <td>0.076677</td>\n",
       "      <td>5658.00</td>\n",
       "      <td>12413.464646</td>\n",
       "      <td>66368.984848</td>\n",
       "      <td>198</td>\n",
       "      <td>21</td>\n",
       "      <td>POPLATEK MESICNE</td>\n",
       "      <td>classic</td>\n",
       "      <td>True</td>\n",
       "      <td>male</td>\n",
       "      <td>False</td>\n",
       "    </tr>\n",
       "    <tr>\n",
       "      <th>1284</th>\n",
       "      <td>52512</td>\n",
       "      <td>12</td>\n",
       "      <td>4376.00</td>\n",
       "      <td>521</td>\n",
       "      <td>157042</td>\n",
       "      <td>8743</td>\n",
       "      <td>0.99</td>\n",
       "      <td>111</td>\n",
       "      <td>0.024048</td>\n",
       "      <td>4375.50</td>\n",
       "      <td>12063.450549</td>\n",
       "      <td>58505.714286</td>\n",
       "      <td>91</td>\n",
       "      <td>54</td>\n",
       "      <td>POPLATEK MESICNE</td>\n",
       "      <td>No</td>\n",
       "      <td>True</td>\n",
       "      <td>male</td>\n",
       "      <td>False</td>\n",
       "    </tr>\n",
       "    <tr>\n",
       "      <th>6083</th>\n",
       "      <td>360864</td>\n",
       "      <td>48</td>\n",
       "      <td>7518.00</td>\n",
       "      <td>374</td>\n",
       "      <td>77963</td>\n",
       "      <td>8546</td>\n",
       "      <td>0.99</td>\n",
       "      <td>126</td>\n",
       "      <td>0.036941</td>\n",
       "      <td>7518.00</td>\n",
       "      <td>11366.436364</td>\n",
       "      <td>44139.009091</td>\n",
       "      <td>220</td>\n",
       "      <td>19</td>\n",
       "      <td>POPLATEK TYDNE</td>\n",
       "      <td>No</td>\n",
       "      <td>True</td>\n",
       "      <td>female</td>\n",
       "      <td>True</td>\n",
       "    </tr>\n",
       "    <tr>\n",
       "      <th>5591</th>\n",
       "      <td>221880</td>\n",
       "      <td>60</td>\n",
       "      <td>3698.00</td>\n",
       "      <td>311</td>\n",
       "      <td>81344</td>\n",
       "      <td>8899</td>\n",
       "      <td>0.99</td>\n",
       "      <td>149</td>\n",
       "      <td>0.033647</td>\n",
       "      <td>1447.96</td>\n",
       "      <td>5187.401338</td>\n",
       "      <td>51147.896321</td>\n",
       "      <td>299</td>\n",
       "      <td>53</td>\n",
       "      <td>POPLATEK MESICNE</td>\n",
       "      <td>No</td>\n",
       "      <td>True</td>\n",
       "      <td>female</td>\n",
       "      <td>False</td>\n",
       "    </tr>\n",
       "    <tr>\n",
       "      <th>5991</th>\n",
       "      <td>61056</td>\n",
       "      <td>48</td>\n",
       "      <td>1272.00</td>\n",
       "      <td>347</td>\n",
       "      <td>1204953</td>\n",
       "      <td>12541</td>\n",
       "      <td>0.36</td>\n",
       "      <td>167</td>\n",
       "      <td>0.076677</td>\n",
       "      <td>2495.00</td>\n",
       "      <td>4734.492375</td>\n",
       "      <td>33080.690632</td>\n",
       "      <td>459</td>\n",
       "      <td>37</td>\n",
       "      <td>POPLATEK MESICNE</td>\n",
       "      <td>No</td>\n",
       "      <td>False</td>\n",
       "      <td>female</td>\n",
       "      <td>False</td>\n",
       "    </tr>\n",
       "    <tr>\n",
       "      <th>5602</th>\n",
       "      <td>177504</td>\n",
       "      <td>48</td>\n",
       "      <td>3698.00</td>\n",
       "      <td>536</td>\n",
       "      <td>51428</td>\n",
       "      <td>8402</td>\n",
       "      <td>0.99</td>\n",
       "      <td>120</td>\n",
       "      <td>0.020397</td>\n",
       "      <td>3697.80</td>\n",
       "      <td>11160.662983</td>\n",
       "      <td>54444.375691</td>\n",
       "      <td>181</td>\n",
       "      <td>53</td>\n",
       "      <td>POPLATEK PO OBRATU</td>\n",
       "      <td>classic</td>\n",
       "      <td>True</td>\n",
       "      <td>male</td>\n",
       "      <td>False</td>\n",
       "    </tr>\n",
       "  </tbody>\n",
       "</table>\n",
       "</div>"
      ],
      "text/plain": [
       "            amount  duration payments  days_between  n_inhabitants  \\\n",
       "account_id                                                           \n",
       "4099         41856        48   872.00           431         387570   \n",
       "5001        110112        24  4588.00           330         107911   \n",
       "1993         68400        12  5700.00           167         228848   \n",
       "825          53076        12  4423.00           333          51428   \n",
       "3664        271584        48  5658.00           510        1204953   \n",
       "1284         52512        12  4376.00           521         157042   \n",
       "6083        360864        48  7518.00           374          77963   \n",
       "5591        221880        60  3698.00           311          81344   \n",
       "5991         61056        48  1272.00           347        1204953   \n",
       "5602        177504        48  3698.00           536          51428   \n",
       "\n",
       "            average_salary  average_unemployment_rate  entrepreneur_rate  \\\n",
       "account_id                                                                 \n",
       "4099                  9897                       0.99                140   \n",
       "5001                  8240                       0.99                 99   \n",
       "1993                  9893                       0.99                 96   \n",
       "825                   8402                       0.99                120   \n",
       "3664                 12541                       0.36                167   \n",
       "1284                  8743                       0.99                111   \n",
       "6083                  8546                       0.99                126   \n",
       "5591                  8899                       0.99                149   \n",
       "5991                 12541                       0.36                167   \n",
       "5602                  8402                       0.99                120   \n",
       "\n",
       "            average_crime_rate  average_order_amount  average_trans_amount  \\\n",
       "account_id                                                                   \n",
       "4099                  0.048271               1124.75           4679.266667   \n",
       "5001                  0.017389               6940.25          12206.039370   \n",
       "1993                  0.025148               5700.30           8930.942387   \n",
       "825                   0.020397               6829.00           5533.720183   \n",
       "3664                  0.076677               5658.00          12413.464646   \n",
       "1284                  0.024048               4375.50          12063.450549   \n",
       "6083                  0.036941               7518.00          11366.436364   \n",
       "5591                  0.033647               1447.96           5187.401338   \n",
       "5991                  0.076677               2495.00           4734.492375   \n",
       "5602                  0.020397               3697.80          11160.662983   \n",
       "\n",
       "            average_trans_balance  n_trans  owner_age           frequency  \\\n",
       "account_id                                                                  \n",
       "4099                 41713.756863      255         36    POPLATEK MESICNE   \n",
       "5001                 54492.964567      254         33    POPLATEK MESICNE   \n",
       "1993                 33456.975309      243         18    POPLATEK MESICNE   \n",
       "825                  33872.564220      218         48    POPLATEK MESICNE   \n",
       "3664                 66368.984848      198         21    POPLATEK MESICNE   \n",
       "1284                 58505.714286       91         54    POPLATEK MESICNE   \n",
       "6083                 44139.009091      220         19      POPLATEK TYDNE   \n",
       "5591                 51147.896321      299         53    POPLATEK MESICNE   \n",
       "5991                 33080.690632      459         37    POPLATEK MESICNE   \n",
       "5602                 54444.375691      181         53  POPLATEK PO OBRATU   \n",
       "\n",
       "           card_type  same_district owner_gender  default  \n",
       "account_id                                                 \n",
       "4099         classic           True       female    False  \n",
       "5001              No           True         male    False  \n",
       "1993              No           True       female     True  \n",
       "825          classic           True         male    False  \n",
       "3664         classic           True         male    False  \n",
       "1284              No           True         male    False  \n",
       "6083              No           True       female     True  \n",
       "5591              No           True       female    False  \n",
       "5991              No          False       female    False  \n",
       "5602         classic           True         male    False  "
      ]
     },
     "execution_count": 207,
     "metadata": {},
     "output_type": "execute_result"
    }
   ],
   "source": [
    "df_ml.sample(10)"
   ]
  },
  {
   "cell_type": "markdown",
   "metadata": {},
   "source": [
    "<a name='correlation'></a>\n",
    "## 4. Correlations"
   ]
  },
  {
   "cell_type": "markdown",
   "metadata": {},
   "source": [
    "Quick check on the correlation between continuous variables."
   ]
  },
  {
   "cell_type": "code",
   "execution_count": 208,
   "metadata": {},
   "outputs": [
    {
     "data": {
      "image/png": "[encoded data removed]",
      "text/plain": [
       "<Figure size 1440x1080 with 1 Axes>"
      ]
     },
     "metadata": {
      "needs_background": "light"
     },
     "output_type": "display_data"
    }
   ],
   "source": [
    "fig, ax = plt.subplots(figsize=(20, 15))\n",
    "sns.heatmap(\n",
    "        df_ml.corr(), \n",
    "        cmap = sns.diverging_palette(220, 10, as_cmap = True),\n",
    "        square=True, \n",
    "        cbar=False,\n",
    "        ax=ax,\n",
    "        annot=True, \n",
    "        linewidths=0.1,vmax=1.0, linecolor='white',\n",
    "        annot_kws={'fontsize':12 })\n",
    "plt.show()"
   ]
  },
  {
   "cell_type": "markdown",
   "metadata": {},
   "source": [
    "<a name='transformation'></a>\n",
    "## 5. Transformations"
   ]
  },
  {
   "cell_type": "markdown",
   "metadata": {},
   "source": [
    "Quick transformations: numeric variables are scaled using `MinMaxScaler` and the categorical variables are one-hot encoded."
   ]
  },
  {
   "cell_type": "code",
   "execution_count": 209,
   "metadata": {},
   "outputs": [],
   "source": [
    "from sklearn.compose import ColumnTransformer\n",
    "from sklearn.preprocessing import OneHotEncoder, MinMaxScaler"
   ]
  },
  {
   "cell_type": "code",
   "execution_count": 210,
   "metadata": {},
   "outputs": [],
   "source": [
    "num_cols = df_ml.columns[:-5]\n",
    "cat_cols = df_ml.columns[-5:]"
   ]
  },
  {
   "cell_type": "code",
   "execution_count": 211,
   "metadata": {},
   "outputs": [],
   "source": [
    "col_trans = ColumnTransformer([\n",
    "    ('num', MinMaxScaler(), num_cols),\n",
    "    ('cat', OneHotEncoder(drop='if_binary'), cat_cols)\n",
    "])"
   ]
  },
  {
   "cell_type": "markdown",
   "metadata": {},
   "source": [
    "* Transform the `default` column from binary to integer. Encode the `owner_gender` column"
   ]
  },
  {
   "cell_type": "code",
   "execution_count": 212,
   "metadata": {},
   "outputs": [],
   "source": [
    "df['default'] = df['default'].astype(int)\n",
    "df['same_district'] = df['same_district'].astype(int)\n",
    "df = pd.get_dummies(df, columns=['owner_gender'], drop_first=True)\n",
    "df = pd.get_dummies(df, columns=['card_type', 'status'])\n",
    "\n",
    "# drop text columns we don't need or have been combined/transformed\n",
    "df.drop(['frequency', 'date_loan', 'date_acc', 'A4', 'A11', 'A12', 'A13', 'A14', 'A15', 'A16'], axis=1, inplace=True)"
   ]
  },
  {
   "cell_type": "code",
   "execution_count": 213,
   "metadata": {},
   "outputs": [
    {
     "data": {
      "text/html": [
       "<div>\n",
       "<style scoped>\n",
       "    .dataframe tbody tr th:only-of-type {\n",
       "        vertical-align: middle;\n",
       "    }\n",
       "\n",
       "    .dataframe tbody tr th {\n",
       "        vertical-align: top;\n",
       "    }\n",
       "\n",
       "    .dataframe thead th {\n",
       "        text-align: right;\n",
       "    }\n",
       "</style>\n",
       "<table border=\"1\" class=\"dataframe\">\n",
       "  <thead>\n",
       "    <tr style=\"text-align: right;\">\n",
       "      <th></th>\n",
       "      <th>amount</th>\n",
       "      <th>duration</th>\n",
       "      <th>payments</th>\n",
       "      <th>days_between</th>\n",
       "      <th>n_inhabitants</th>\n",
       "      <th>average_salary</th>\n",
       "      <th>average_unemployment_rate</th>\n",
       "      <th>entrepreneur_rate</th>\n",
       "      <th>average_crime_rate</th>\n",
       "      <th>default</th>\n",
       "      <th>...</th>\n",
       "      <th>card_type_classic</th>\n",
       "      <th>card_type_gold</th>\n",
       "      <th>card_type_junior</th>\n",
       "      <th>status_A</th>\n",
       "      <th>status_B</th>\n",
       "      <th>status_C</th>\n",
       "      <th>status_D</th>\n",
       "      <th>frequency_POPLATEK MESICNE</th>\n",
       "      <th>frequency_POPLATEK PO OBRATU</th>\n",
       "      <th>frequency_POPLATEK TYDNE</th>\n",
       "    </tr>\n",
       "    <tr>\n",
       "      <th>account_id</th>\n",
       "      <th></th>\n",
       "      <th></th>\n",
       "      <th></th>\n",
       "      <th></th>\n",
       "      <th></th>\n",
       "      <th></th>\n",
       "      <th></th>\n",
       "      <th></th>\n",
       "      <th></th>\n",
       "      <th></th>\n",
       "      <th></th>\n",
       "      <th></th>\n",
       "      <th></th>\n",
       "      <th></th>\n",
       "      <th></th>\n",
       "      <th></th>\n",
       "      <th></th>\n",
       "      <th></th>\n",
       "      <th></th>\n",
       "      <th></th>\n",
       "      <th></th>\n",
       "    </tr>\n",
       "  </thead>\n",
       "  <tbody>\n",
       "    <tr>\n",
       "      <th>1787</th>\n",
       "      <td>96396</td>\n",
       "      <td>12</td>\n",
       "      <td>8033.00</td>\n",
       "      <td>105</td>\n",
       "      <td>94812</td>\n",
       "      <td>9650</td>\n",
       "      <td>0.99</td>\n",
       "      <td>100</td>\n",
       "      <td>0.030529</td>\n",
       "      <td>1</td>\n",
       "      <td>...</td>\n",
       "      <td>0</td>\n",
       "      <td>0</td>\n",
       "      <td>0</td>\n",
       "      <td>0</td>\n",
       "      <td>1</td>\n",
       "      <td>0</td>\n",
       "      <td>0</td>\n",
       "      <td>0</td>\n",
       "      <td>0</td>\n",
       "      <td>1</td>\n",
       "    </tr>\n",
       "    <tr>\n",
       "      <th>1801</th>\n",
       "      <td>165960</td>\n",
       "      <td>36</td>\n",
       "      <td>4610.00</td>\n",
       "      <td>148</td>\n",
       "      <td>112709</td>\n",
       "      <td>8369</td>\n",
       "      <td>0.99</td>\n",
       "      <td>117</td>\n",
       "      <td>0.024275</td>\n",
       "      <td>0</td>\n",
       "      <td>...</td>\n",
       "      <td>0</td>\n",
       "      <td>0</td>\n",
       "      <td>0</td>\n",
       "      <td>1</td>\n",
       "      <td>0</td>\n",
       "      <td>0</td>\n",
       "      <td>0</td>\n",
       "      <td>1</td>\n",
       "      <td>0</td>\n",
       "      <td>0</td>\n",
       "    </tr>\n",
       "    <tr>\n",
       "      <th>9188</th>\n",
       "      <td>127080</td>\n",
       "      <td>60</td>\n",
       "      <td>2118.00</td>\n",
       "      <td>170</td>\n",
       "      <td>77917</td>\n",
       "      <td>8390</td>\n",
       "      <td>0.99</td>\n",
       "      <td>132</td>\n",
       "      <td>0.026965</td>\n",
       "      <td>0</td>\n",
       "      <td>...</td>\n",
       "      <td>0</td>\n",
       "      <td>0</td>\n",
       "      <td>0</td>\n",
       "      <td>1</td>\n",
       "      <td>0</td>\n",
       "      <td>0</td>\n",
       "      <td>0</td>\n",
       "      <td>1</td>\n",
       "      <td>0</td>\n",
       "      <td>0</td>\n",
       "    </tr>\n",
       "    <tr>\n",
       "      <th>1843</th>\n",
       "      <td>105804</td>\n",
       "      <td>36</td>\n",
       "      <td>2939.00</td>\n",
       "      <td>185</td>\n",
       "      <td>107870</td>\n",
       "      <td>8754</td>\n",
       "      <td>0.99</td>\n",
       "      <td>137</td>\n",
       "      <td>0.035561</td>\n",
       "      <td>0</td>\n",
       "      <td>...</td>\n",
       "      <td>1</td>\n",
       "      <td>0</td>\n",
       "      <td>0</td>\n",
       "      <td>1</td>\n",
       "      <td>0</td>\n",
       "      <td>0</td>\n",
       "      <td>0</td>\n",
       "      <td>1</td>\n",
       "      <td>0</td>\n",
       "      <td>0</td>\n",
       "    </tr>\n",
       "    <tr>\n",
       "      <th>11013</th>\n",
       "      <td>274740</td>\n",
       "      <td>60</td>\n",
       "      <td>4579.00</td>\n",
       "      <td>204</td>\n",
       "      <td>1204953</td>\n",
       "      <td>12541</td>\n",
       "      <td>0.36</td>\n",
       "      <td>167</td>\n",
       "      <td>0.076677</td>\n",
       "      <td>0</td>\n",
       "      <td>...</td>\n",
       "      <td>0</td>\n",
       "      <td>0</td>\n",
       "      <td>1</td>\n",
       "      <td>1</td>\n",
       "      <td>0</td>\n",
       "      <td>0</td>\n",
       "      <td>0</td>\n",
       "      <td>0</td>\n",
       "      <td>0</td>\n",
       "      <td>1</td>\n",
       "    </tr>\n",
       "  </tbody>\n",
       "</table>\n",
       "<p>5 rows × 28 columns</p>\n",
       "</div>"
      ],
      "text/plain": [
       "            amount  duration payments  days_between  n_inhabitants  \\\n",
       "account_id                                                           \n",
       "1787         96396        12  8033.00           105          94812   \n",
       "1801        165960        36  4610.00           148         112709   \n",
       "9188        127080        60  2118.00           170          77917   \n",
       "1843        105804        36  2939.00           185         107870   \n",
       "11013       274740        60  4579.00           204        1204953   \n",
       "\n",
       "            average_salary  average_unemployment_rate  entrepreneur_rate  \\\n",
       "account_id                                                                 \n",
       "1787                  9650                       0.99                100   \n",
       "1801                  8369                       0.99                117   \n",
       "9188                  8390                       0.99                132   \n",
       "1843                  8754                       0.99                137   \n",
       "11013                12541                       0.36                167   \n",
       "\n",
       "            average_crime_rate  default  ...  card_type_classic  \\\n",
       "account_id                               ...                      \n",
       "1787                  0.030529        1  ...                  0   \n",
       "1801                  0.024275        0  ...                  0   \n",
       "9188                  0.026965        0  ...                  0   \n",
       "1843                  0.035561        0  ...                  1   \n",
       "11013                 0.076677        0  ...                  0   \n",
       "\n",
       "            card_type_gold  card_type_junior  status_A  status_B  status_C  \\\n",
       "account_id                                                                   \n",
       "1787                     0                 0         0         1         0   \n",
       "1801                     0                 0         1         0         0   \n",
       "9188                     0                 0         1         0         0   \n",
       "1843                     0                 0         1         0         0   \n",
       "11013                    0                 1         1         0         0   \n",
       "\n",
       "            status_D  frequency_POPLATEK MESICNE  \\\n",
       "account_id                                         \n",
       "1787               0                           0   \n",
       "1801               0                           1   \n",
       "9188               0                           1   \n",
       "1843               0                           1   \n",
       "11013              0                           0   \n",
       "\n",
       "            frequency_POPLATEK PO OBRATU  frequency_POPLATEK TYDNE  \n",
       "account_id                                                          \n",
       "1787                                   0                         1  \n",
       "1801                                   0                         0  \n",
       "9188                                   0                         0  \n",
       "1843                                   0                         0  \n",
       "11013                                  0                         1  \n",
       "\n",
       "[5 rows x 28 columns]"
      ]
     },
     "execution_count": 213,
     "metadata": {},
     "output_type": "execute_result"
    }
   ],
   "source": [
    "df.head()"
   ]
  },
  {
   "cell_type": "code",
   "execution_count": null,
   "metadata": {},
   "outputs": [],
   "source": [
    "df_transformed = col_trans.fit_transform(df_ml)\n",
    "X = df_transformed[:, :-1]\n",
    "y = df_transformed[:, -1]"
   ]
  },
  {
   "cell_type": "markdown",
   "metadata": {},
   "source": [
    "<a name='modeling'></a>\n",
    "## 6. Modeling"
   ]
  },
  {
   "cell_type": "markdown",
   "metadata": {},
   "source": [
    "Again, this is just a baseline model, using RandomForestClassifier, which is one of the most popular and simplest models. The performance metrics are chosen to be accuracy, F1, ROC AUC. Also the confusion matrices are calculated."
   ]
  },
  {
   "cell_type": "markdown",
   "metadata": {},
   "source": [
    "- Create a flatfile for upload to the EurekaAI platform"
   ]
  },
  {
   "cell_type": "code",
   "execution_count": null,
   "metadata": {},
   "outputs": [],
   "source": [
    "file_name='loan_default_transformed.csv'\n",
    "df.to_csv(file_name)"
   ]
  },
  {
   "cell_type": "markdown",
   "metadata": {},
   "source": [
    "* Upload to the platform and create a source"
   ]
  },
  {
   "cell_type": "code",
   "execution_count": null,
   "metadata": {},
   "outputs": [],
   "source": [
    "src = conn.upload_source(file_name)"
   ]
  },
  {
   "cell_type": "code",
   "execution_count": null,
   "metadata": {},
   "outputs": [],
   "source": [
    "from sklearn.model_selection import train_test_split, cross_val_score, GridSearchCV, StratifiedKFold\n",
    "from sklearn.ensemble import RandomForestClassifier\n",
    "from sklearn.metrics import f1_score, accuracy_score, roc_auc_score, plot_confusion_matrix, plot_roc_curve"
   ]
  },
  {
   "cell_type": "code",
   "execution_count": null,
   "metadata": {},
   "outputs": [],
   "source": [
    "# Train test split\n",
    "X_train, X_test, y_train, y_test = train_test_split(X, y, test_size=0.3, stratify=y, random_state=10)"
   ]
  },
  {
   "cell_type": "code",
   "execution_count": null,
   "metadata": {},
   "outputs": [],
   "source": [
    "# See the inital model performance\n",
    "clf = RandomForestClassifier(random_state=10)\n",
    "print('Acc:', cross_val_score(clf, X_train, y_train, cv=StratifiedKFold(n_splits=5), scoring='accuracy').mean())\n",
    "print('F1:', cross_val_score(clf, X_train, y_train, cv=StratifiedKFold(n_splits=5), scoring='f1').mean())\n",
    "print('ROC AUC:', cross_val_score(clf, X_train, y_train, cv=StratifiedKFold(n_splits=5), scoring='roc_auc').mean())"
   ]
  },
  {
   "cell_type": "markdown",
   "metadata": {},
   "source": [
    "### Fine tune"
   ]
  },
  {
   "cell_type": "markdown",
   "metadata": {},
   "source": [
    "Finetuned using F1 Score."
   ]
  },
  {
   "cell_type": "code",
   "execution_count": null,
   "metadata": {},
   "outputs": [],
   "source": [
    "params = {\n",
    "    'n_estimators': [10, 50, 100, 200],\n",
    "    'max_depth': [None, 10, 20, 30],\n",
    "    'min_samples_split': [2, 5, 10],\n",
    "    'min_samples_leaf': [1, 2, 5]\n",
    "}"
   ]
  },
  {
   "cell_type": "code",
   "execution_count": null,
   "metadata": {},
   "outputs": [],
   "source": [
    "clf = GridSearchCV(RandomForestClassifier(random_state=10), param_grid=params, \n",
    "                   cv=StratifiedKFold(n_splits=5, shuffle=True, random_state=10), scoring='f1')\n",
    "clf.fit(X_train, y_train)"
   ]
  },
  {
   "cell_type": "code",
   "execution_count": null,
   "metadata": {},
   "outputs": [],
   "source": [
    "print(clf.best_params_)"
   ]
  },
  {
   "cell_type": "code",
   "execution_count": null,
   "metadata": {},
   "outputs": [],
   "source": [
    "clf.best_score_"
   ]
  },
  {
   "cell_type": "markdown",
   "metadata": {},
   "source": [
    "### Refit using best params"
   ]
  },
  {
   "cell_type": "code",
   "execution_count": null,
   "metadata": {},
   "outputs": [],
   "source": [
    "clf = RandomForestClassifier(n_estimators=10,\n",
    "                             max_depth=None,\n",
    "                             min_samples_split=5,\n",
    "                             min_samples_leaf=1,\n",
    "                             random_state=11)"
   ]
  },
  {
   "cell_type": "code",
   "execution_count": null,
   "metadata": {},
   "outputs": [],
   "source": [
    "clf.fit(X_train, y_train)"
   ]
  },
  {
   "cell_type": "markdown",
   "metadata": {},
   "source": [
    "### Performance on the training set"
   ]
  },
  {
   "cell_type": "code",
   "execution_count": null,
   "metadata": {},
   "outputs": [],
   "source": [
    "y_train_pred = clf.predict(X_train)\n",
    "y_train_proba = clf.predict_proba(X_train)"
   ]
  },
  {
   "cell_type": "code",
   "execution_count": null,
   "metadata": {},
   "outputs": [],
   "source": [
    "print('Train Acc:', accuracy_score(y_train, y_train_pred))\n",
    "print('Train F1:', f1_score(y_train, y_train_pred))\n",
    "print('Train ROC AUC:', roc_auc_score(y_train, y_train_proba[:, 1]))"
   ]
  },
  {
   "cell_type": "code",
   "execution_count": null,
   "metadata": {},
   "outputs": [],
   "source": [
    "# Confusion matrix\n",
    "fig, ax = plt.subplots(figsize=(8, 6))\n",
    "plot_confusion_matrix(clf, X_train, y_train, display_labels=['Good', 'Bad'], \n",
    "                      cmap=plt.cm.Blues, ax=ax)\n",
    "ax.set_title('Confusion Matrix on Training Set')\n",
    "plt.show()"
   ]
  },
  {
   "cell_type": "markdown",
   "metadata": {},
   "source": [
    "### Performance on test set"
   ]
  },
  {
   "cell_type": "code",
   "execution_count": null,
   "metadata": {},
   "outputs": [],
   "source": [
    "y_test_pred = clf.predict(X_test)\n",
    "y_test_proba = clf.predict_proba(X_test)"
   ]
  },
  {
   "cell_type": "code",
   "execution_count": null,
   "metadata": {},
   "outputs": [],
   "source": [
    "print('test Acc:', accuracy_score(y_test, y_test_pred))\n",
    "print('test F1:', f1_score(y_test, y_test_pred))\n",
    "print('test ROC AUC:', roc_auc_score(y_test, y_test_proba[:, 1]))"
   ]
  },
  {
   "cell_type": "code",
   "execution_count": null,
   "metadata": {},
   "outputs": [],
   "source": [
    "# Confusion matrix\n",
    "fig, ax = plt.subplots(figsize=(8, 6))\n",
    "plot_confusion_matrix(clf, X_test, y_test, display_labels=['Good', 'Bad'], \n",
    "                      cmap=plt.cm.Blues, ax=ax)\n",
    "ax.set_title('Confusion Matrix on Test Set')\n",
    "plt.show()"
   ]
  },
  {
   "cell_type": "code",
   "execution_count": null,
   "metadata": {},
   "outputs": [],
   "source": [
    "# ROC curve\n",
    "fig, ax = plt.subplots(figsize=(8, 8))\n",
    "plot_roc_curve(clf, X_test, y_test, ax=ax)\n",
    "ax.plot([0, 1], [0, 1], linestyle='--', lw=2, color='r',\n",
    "        label='Chance', alpha=.8)\n",
    "ax.set_title('ROC Curve on the Test Set')\n",
    "plt.show()"
   ]
  },
  {
   "cell_type": "markdown",
   "metadata": {},
   "source": [
    "<a name='feature_importance'></a>\n",
    "## 7. Feature Importance"
   ]
  },
  {
   "cell_type": "markdown",
   "metadata": {},
   "source": [
    "The top 5 features that have the most prediction powers are:\n",
    "- Average Transaction Balance\n",
    "- Average Transaction Amount\n",
    "- Loan Amount\n",
    "- Average Salary\n",
    "- Day between account creation and loan application  \n",
    "\n",
    "They can be further studies if time permitted."
   ]
  },
  {
   "cell_type": "code",
   "execution_count": null,
   "metadata": {},
   "outputs": [],
   "source": [
    "feature_names = num_cols.tolist() + col_trans.transformers_[1][1].get_feature_names().tolist()[:-1]\n",
    "df_importance = pd.DataFrame({'feature': feature_names, 'importance': clf.feature_importances_})\n",
    "df_importance.sort_values('importance', ascending=False)"
   ]
  },
  {
   "cell_type": "markdown",
   "metadata": {},
   "source": [
    "<a name='future'></a>\n",
    "## 8. Future Directions"
   ]
  },
  {
   "cell_type": "markdown",
   "metadata": {},
   "source": [
    "1. **Extract more features**: Due to time limit, it is not possible to conduct a thorough study and have a deep understanding of the dataset. There are still many features in the dataset that are unused.\n",
    "2. **Try other models**: Only the Random Forest model is used, but there are many good ones out there, such as Logistic Regression, XGBoost, SVM, or even neural networks.\n",
    "3. **Deal with the unbalanced data**: It is important to notice this fact that the default loans are only about 10% of the total loans, so during the training process, the model will favor predicting more negatives than positive results. In order to solve this problem, we can collect more data or use resampling techniques."
   ]
  },
  {
   "cell_type": "code",
   "execution_count": null,
   "metadata": {},
   "outputs": [],
   "source": []
  }
 ],
 "metadata": {
  "kernelspec": {
   "display_name": "Python 3.7.13 ('sai')",
   "language": "python",
   "name": "python3"
  },
  "language_info": {
   "codemirror_mode": {
    "name": "ipython",
    "version": 3
   },
   "file_extension": ".py",
   "mimetype": "text/x-python",
   "name": "python",
   "nbconvert_exporter": "python",
   "pygments_lexer": "ipython3",
   "version": "3.7.13"
  },
  "vscode": {
   "interpreter": {
    "hash": "9f71fe9018ae557d325789ec04d1642a7ad87d7974ad2d87a916b716139327d8"
   }
  }
 },
 "nbformat": 4,
 "nbformat_minor": 4
}
